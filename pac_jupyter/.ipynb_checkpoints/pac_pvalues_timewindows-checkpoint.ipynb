{
 "cells": [
  {
   "cell_type": "markdown",
   "metadata": {},
   "source": [
    "# Import modules and packages"
   ]
  },
  {
   "cell_type": "code",
   "execution_count": 1,
   "metadata": {},
   "outputs": [],
   "source": [
    "%matplotlib inline\n",
    "\n",
    "import os\n",
    "import scipy.io\n",
    "import scipy as sp\n",
    "import numpy as np\n",
    "import matplotlib.pyplot as plt\n",
    "from scipy.signal import butter, filtfilt, hilbert\n"
   ]
  },
  {
   "cell_type": "markdown",
   "metadata": {},
   "source": [
    "# Metadata"
   ]
  },
  {
   "cell_type": "code",
   "execution_count": 2,
   "metadata": {},
   "outputs": [],
   "source": [
    "# Insert metadata information\n",
    "\n",
    "subjects=['al','ca','cc','de','fp','gc','gf','gw',\n",
    "          'h0','hh','jc','jm','jp','mv','rh','rr',\n",
    "          'ug','wc','wm','zt']\n",
    "\n",
    "os.chdir(r'C:\\Users\\jaapv\\Desktop\\master\\VoytekLab')\n",
    "\n",
    "# dataset\n",
    "dataset = 'fixation_pwrlaw'\n",
    "fs = 1000\n",
    "\n"
   ]
  },
  {
   "cell_type": "markdown",
   "metadata": {},
   "source": [
    "# Filters and Circle Correlation Function"
   ]
  },
  {
   "cell_type": "code",
   "execution_count": 9,
   "metadata": {},
   "outputs": [],
   "source": [
    "def butter_bandpass(lowcut, highcut, fs, order=4):\n",
    "    #lowcut is the lower bound of the frequency that we want to isolate\n",
    "    #hicut is the upper bound of the frequency that we want to isolate\n",
    "    #fs is the sampling rate of our data\n",
    "    nyq = 0.5 * fs #nyquist frequency - see http://www.dspguide.com/ if you want more info\n",
    "    low = float(lowcut) / nyq\n",
    "    high = float(highcut) / nyq\n",
    "    b, a = butter(order, [low, high], btype='band')\n",
    "    return b, a\n",
    "\n",
    "def butter_bandpass_filter(mydata, lowcut, highcut, fs, order=4):\n",
    "    b, a = butter_bandpass(lowcut, highcut, fs, order=order)\n",
    "    y = filtfilt(b, a, mydata)\n",
    "    return y\n",
    "\n",
    "def circCorr(ang,line):\n",
    "    n = len(ang)\n",
    "    rxs = sp.stats.pearsonr(line,np.sin(ang))\n",
    "    rxs = rxs[0]\n",
    "    rxc = sp.stats.pearsonr(line,np.cos(ang))\n",
    "    rxc = rxc[0]\n",
    "    rcs = sp.stats.pearsonr(np.sin(ang),np.cos(ang))\n",
    "    rcs = rcs[0]\n",
    "    rho = np.sqrt((rxc**2 + rxs**2 - 2*rxc*rxs*rcs)/(1-rcs**2)) #r\n",
    "    r_2 = rho**2 #r squared\n",
    "    pval = 1- sp.stats.chi2.cdf(n*(rho**2),1)\n",
    "    standard_error = np.sqrt((1-r_2)/(n-2))\n",
    "\n",
    "    return rho, pval, r_2,standard_error"
   ]
  },
  {
   "cell_type": "markdown",
   "metadata": {},
   "source": [
    "# Select frequency bands for PAC"
   ]
  },
  {
   "cell_type": "code",
   "execution_count": 10,
   "metadata": {},
   "outputs": [],
   "source": [
    "phase_providing_band = [4,8]; #4-8 Hz band\n",
    "amplitude_providing_band = [80, 125]; #80-125 Hz band"
   ]
  },
  {
   "cell_type": "markdown",
   "metadata": {},
   "source": [
    "# Data loop\n"
   ]
  },
  {
   "cell_type": "code",
   "execution_count": 16,
   "metadata": {},
   "outputs": [
    {
     "ename": "ValueError",
     "evalue": "x and y must have length at least 2.",
     "output_type": "error",
     "traceback": [
      "\u001b[1;31m---------------------------------------------------------------------------\u001b[0m",
      "\u001b[1;31mValueError\u001b[0m                                Traceback (most recent call last)",
      "\u001b[1;32m<ipython-input-16-72b368e05595>\u001b[0m in \u001b[0;36m<module>\u001b[1;34m\u001b[0m\n\u001b[0;32m     53\u001b[0m \u001b[1;33m\u001b[0m\u001b[0m\n\u001b[0;32m     54\u001b[0m             \u001b[1;31m# calculate PAC using circCorr function on 2 seconds of the data\u001b[0m\u001b[1;33m\u001b[0m\u001b[1;33m\u001b[0m\u001b[1;33m\u001b[0m\u001b[0m\n\u001b[1;32m---> 55\u001b[1;33m             \u001b[0mPAC_values\u001b[0m \u001b[1;33m=\u001b[0m \u001b[0mcircCorr\u001b[0m\u001b[1;33m(\u001b[0m\u001b[0mphase_data_angle\u001b[0m\u001b[1;33m,\u001b[0m \u001b[0mamp_data_abs\u001b[0m\u001b[1;33m)\u001b[0m\u001b[1;33m\u001b[0m\u001b[1;33m\u001b[0m\u001b[0m\n\u001b[0m\u001b[0;32m     56\u001b[0m \u001b[1;33m\u001b[0m\u001b[0m\n\u001b[0;32m     57\u001b[0m             \u001b[1;31m# save whether there is PAC or not in the matrix\u001b[0m\u001b[1;33m\u001b[0m\u001b[1;33m\u001b[0m\u001b[1;33m\u001b[0m\u001b[0m\n",
      "\u001b[1;32m<ipython-input-9-47517b4dfa38>\u001b[0m in \u001b[0;36mcircCorr\u001b[1;34m(ang, line)\u001b[0m\n\u001b[0;32m     16\u001b[0m \u001b[1;32mdef\u001b[0m \u001b[0mcircCorr\u001b[0m\u001b[1;33m(\u001b[0m\u001b[0mang\u001b[0m\u001b[1;33m,\u001b[0m\u001b[0mline\u001b[0m\u001b[1;33m)\u001b[0m\u001b[1;33m:\u001b[0m\u001b[1;33m\u001b[0m\u001b[1;33m\u001b[0m\u001b[0m\n\u001b[0;32m     17\u001b[0m     \u001b[0mn\u001b[0m \u001b[1;33m=\u001b[0m \u001b[0mlen\u001b[0m\u001b[1;33m(\u001b[0m\u001b[0mang\u001b[0m\u001b[1;33m)\u001b[0m\u001b[1;33m\u001b[0m\u001b[1;33m\u001b[0m\u001b[0m\n\u001b[1;32m---> 18\u001b[1;33m     \u001b[0mrxs\u001b[0m \u001b[1;33m=\u001b[0m \u001b[0msp\u001b[0m\u001b[1;33m.\u001b[0m\u001b[0mstats\u001b[0m\u001b[1;33m.\u001b[0m\u001b[0mpearsonr\u001b[0m\u001b[1;33m(\u001b[0m\u001b[0mline\u001b[0m\u001b[1;33m,\u001b[0m\u001b[0mnp\u001b[0m\u001b[1;33m.\u001b[0m\u001b[0msin\u001b[0m\u001b[1;33m(\u001b[0m\u001b[0mang\u001b[0m\u001b[1;33m)\u001b[0m\u001b[1;33m)\u001b[0m\u001b[1;33m\u001b[0m\u001b[1;33m\u001b[0m\u001b[0m\n\u001b[0m\u001b[0;32m     19\u001b[0m     \u001b[0mrxs\u001b[0m \u001b[1;33m=\u001b[0m \u001b[0mrxs\u001b[0m\u001b[1;33m[\u001b[0m\u001b[1;36m0\u001b[0m\u001b[1;33m]\u001b[0m\u001b[1;33m\u001b[0m\u001b[1;33m\u001b[0m\u001b[0m\n\u001b[0;32m     20\u001b[0m     \u001b[0mrxc\u001b[0m \u001b[1;33m=\u001b[0m \u001b[0msp\u001b[0m\u001b[1;33m.\u001b[0m\u001b[0mstats\u001b[0m\u001b[1;33m.\u001b[0m\u001b[0mpearsonr\u001b[0m\u001b[1;33m(\u001b[0m\u001b[0mline\u001b[0m\u001b[1;33m,\u001b[0m\u001b[0mnp\u001b[0m\u001b[1;33m.\u001b[0m\u001b[0mcos\u001b[0m\u001b[1;33m(\u001b[0m\u001b[0mang\u001b[0m\u001b[1;33m)\u001b[0m\u001b[1;33m)\u001b[0m\u001b[1;33m\u001b[0m\u001b[1;33m\u001b[0m\u001b[0m\n",
      "\u001b[1;32m~\\Anaconda3\\lib\\site-packages\\scipy\\stats\\stats.py\u001b[0m in \u001b[0;36mpearsonr\u001b[1;34m(x, y)\u001b[0m\n\u001b[0;32m   3390\u001b[0m \u001b[1;33m\u001b[0m\u001b[0m\n\u001b[0;32m   3391\u001b[0m     \u001b[1;32mif\u001b[0m \u001b[0mn\u001b[0m \u001b[1;33m<\u001b[0m \u001b[1;36m2\u001b[0m\u001b[1;33m:\u001b[0m\u001b[1;33m\u001b[0m\u001b[1;33m\u001b[0m\u001b[0m\n\u001b[1;32m-> 3392\u001b[1;33m         \u001b[1;32mraise\u001b[0m \u001b[0mValueError\u001b[0m\u001b[1;33m(\u001b[0m\u001b[1;34m'x and y must have length at least 2.'\u001b[0m\u001b[1;33m)\u001b[0m\u001b[1;33m\u001b[0m\u001b[1;33m\u001b[0m\u001b[0m\n\u001b[0m\u001b[0;32m   3393\u001b[0m \u001b[1;33m\u001b[0m\u001b[0m\n\u001b[0;32m   3394\u001b[0m     \u001b[0mx\u001b[0m \u001b[1;33m=\u001b[0m \u001b[0mnp\u001b[0m\u001b[1;33m.\u001b[0m\u001b[0masarray\u001b[0m\u001b[1;33m(\u001b[0m\u001b[0mx\u001b[0m\u001b[1;33m)\u001b[0m\u001b[1;33m\u001b[0m\u001b[1;33m\u001b[0m\u001b[0m\n",
      "\u001b[1;31mValueError\u001b[0m: x and y must have length at least 2."
     ]
    }
   ],
   "source": [
    "#### Loop through every subj and channel to find which have PAC\n",
    "#### This will be saved in the output structure PAC_presence\n",
    "\n",
    "# to fill in the amount of channels with PAC\n",
    "scores = []\n",
    "\n",
    "# timewindows to test\n",
    "timewindows = [0.1, 0.2, 0.5, 1, 2, 5, 10, 20, 30, 40, 50, 60]\n",
    "\n",
    "\n",
    "for tw in range(len(timewindows)):\n",
    "\n",
    "    # create output matrix of 20 * 64 (subj * channels)\n",
    "    PAC_presence = np.full((2,20,64),np.nan)   \n",
    "    \n",
    "    # for every subject\n",
    "    for subj in range(len(subjects)): \n",
    "\n",
    "        # get the filename\n",
    "        sub_label = subjects[subj] + '_base'\n",
    "        filename = os.path.join(os.getcwd(), dataset, 'data', sub_label)\n",
    "\n",
    "        # load data\n",
    "        dataStruct = sp.io.loadmat(filename)\n",
    "        data = dataStruct['data']\n",
    "        locs = dataStruct['locs']\n",
    "\n",
    "        # how much data we want\n",
    "        data = data[10000:100000] # 20 to 100 second part \n",
    "\n",
    "        # for every channel \n",
    "        for ch in range(len(locs)):\n",
    "\n",
    "\n",
    "            #calculating phase of theta of 20 seconds of the signal\n",
    "            phase_data = butter_bandpass_filter(data[:,ch], phase_providing_band[0], phase_providing_band[1], round(float(fs)));\n",
    "            phase_data_hilbert = hilbert(phase_data);\n",
    "            phase_data_angle = np.angle(phase_data_hilbert);\n",
    "\n",
    "            #calculating amplitude envelope of high gamma of 20 seconds of the signal\n",
    "            amp_data = butter_bandpass_filter(data[:,ch], amplitude_providing_band[0], amplitude_providing_band[1], round(float(fs)));\n",
    "            amp_data_hilbert = hilbert(amp_data);\n",
    "            amp_data_abs = abs(amp_data_hilbert);\n",
    "           \n",
    "            # get random number to use as start sample\n",
    "            rdm = ((np.random.rand(1)*10 + 20) * 10000)\n",
    "            rdm = round(np.asscalar(rdm))\n",
    "            \n",
    "            # on which part of the data we want to calculate PAC   \n",
    "            # it takes a random start sample between 20 and 30s\n",
    "            phase_data_angle = phase_data_angle[rdm:(rdm + round((timewindows[tw] * fs)))] # 10 to 15s (which corresponds with 60 to 62s of the data)\n",
    "            amp_data_abs = amp_data_abs[rdm:(rdm + round((timewindows[tw] * fs)))]    # 10 to 15s (which corresponds with 60 to 62s of the data)\n",
    "\n",
    "            # calculate PAC using circCorr function on 2 seconds of the data\n",
    "            PAC_values = circCorr(phase_data_angle, amp_data_abs)\n",
    "\n",
    "            # save whether there is PAC or not in the matrix        \n",
    "            if PAC_values[1] <= 0.05:\n",
    "\n",
    "                PAC_presence[0, subj, ch] = 1\n",
    "\n",
    "            elif PAC_values[1] > 0.05: \n",
    "\n",
    "                PAC_presence[0, subj, ch] = 0\n",
    "\n",
    "            PAC_presence[1, subj, ch] = PAC_values[1]\n",
    "\n",
    "\n",
    "        print('another one is done =), this was subj', subj, 'in timeframe', timewindows[tw])\n",
    "\n",
    "    PAC_percentage = (PAC_presence[0,:,:] == 1).sum() / ((PAC_presence[0,:,:] == 1).sum() + (PAC_presence[0,:,:] == 0).sum()) * 100\n",
    "\n",
    "    scores.append(PAC_percentage)\n",
    "    \n",
    "plt.scatter(timewindows, scores)"
   ]
  },
  {
   "cell_type": "code",
   "execution_count": 13,
   "metadata": {},
   "outputs": [
    {
     "data": {
      "text/plain": [
       "10200"
      ]
     },
     "execution_count": 13,
     "metadata": {},
     "output_type": "execute_result"
    }
   ],
   "source": [
    "a = 10 + 0.2\n",
    "b = a * fs\n",
    "round(b)"
   ]
  },
  {
   "cell_type": "code",
   "execution_count": 7,
   "metadata": {},
   "outputs": [
    {
     "ename": "NameError",
     "evalue": "name 'subj' is not defined",
     "output_type": "error",
     "traceback": [
      "\u001b[1;31m---------------------------------------------------------------------------\u001b[0m",
      "\u001b[1;31mNameError\u001b[0m                                 Traceback (most recent call last)",
      "\u001b[1;32m<ipython-input-7-c7fac2492df1>\u001b[0m in \u001b[0;36m<module>\u001b[1;34m\u001b[0m\n\u001b[0;32m      1\u001b[0m \u001b[1;31m# get the filename\u001b[0m\u001b[1;33m\u001b[0m\u001b[1;33m\u001b[0m\u001b[1;33m\u001b[0m\u001b[0m\n\u001b[1;32m----> 2\u001b[1;33m \u001b[0msub_label\u001b[0m \u001b[1;33m=\u001b[0m \u001b[0msubjects\u001b[0m\u001b[1;33m[\u001b[0m\u001b[0msubj\u001b[0m\u001b[1;33m]\u001b[0m \u001b[1;33m+\u001b[0m \u001b[1;34m'_base'\u001b[0m\u001b[1;33m\u001b[0m\u001b[1;33m\u001b[0m\u001b[0m\n\u001b[0m\u001b[0;32m      3\u001b[0m \u001b[0mfilename\u001b[0m \u001b[1;33m=\u001b[0m \u001b[0mos\u001b[0m\u001b[1;33m.\u001b[0m\u001b[0mpath\u001b[0m\u001b[1;33m.\u001b[0m\u001b[0mjoin\u001b[0m\u001b[1;33m(\u001b[0m\u001b[0mos\u001b[0m\u001b[1;33m.\u001b[0m\u001b[0mgetcwd\u001b[0m\u001b[1;33m(\u001b[0m\u001b[1;33m)\u001b[0m\u001b[1;33m,\u001b[0m \u001b[0mdataset\u001b[0m\u001b[1;33m,\u001b[0m \u001b[1;34m'data'\u001b[0m\u001b[1;33m,\u001b[0m \u001b[0msub_label\u001b[0m\u001b[1;33m)\u001b[0m\u001b[1;33m\u001b[0m\u001b[1;33m\u001b[0m\u001b[0m\n\u001b[0;32m      4\u001b[0m \u001b[1;33m\u001b[0m\u001b[0m\n\u001b[0;32m      5\u001b[0m \u001b[1;31m# load data\u001b[0m\u001b[1;33m\u001b[0m\u001b[1;33m\u001b[0m\u001b[1;33m\u001b[0m\u001b[0m\n",
      "\u001b[1;31mNameError\u001b[0m: name 'subj' is not defined"
     ]
    }
   ],
   "source": []
  },
  {
   "cell_type": "code",
   "execution_count": null,
   "metadata": {},
   "outputs": [],
   "source": []
  }
 ],
 "metadata": {
  "kernelspec": {
   "display_name": "Python 3",
   "language": "python",
   "name": "python3"
  },
  "language_info": {
   "codemirror_mode": {
    "name": "ipython",
    "version": 3
   },
   "file_extension": ".py",
   "mimetype": "text/x-python",
   "name": "python",
   "nbconvert_exporter": "python",
   "pygments_lexer": "ipython3",
   "version": "3.7.4"
  }
 },
 "nbformat": 4,
 "nbformat_minor": 2
}
