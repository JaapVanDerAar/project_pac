{
 "cells": [
  {
   "cell_type": "code",
   "execution_count": 17,
   "metadata": {},
   "outputs": [],
   "source": [
    "# Load all necessary packages and modules\n",
    "\n",
    "%matplotlib inline\n",
    "\n",
    "import os\n",
    "import scipy.io\n",
    "import scipy as sp\n",
    "import numpy as np\n",
    "import matplotlib.pyplot as plt\n",
    "from scipy.signal import butter, filtfilt, hilbert\n"
   ]
  },
  {
   "cell_type": "code",
   "execution_count": 18,
   "metadata": {},
   "outputs": [],
   "source": [
    "# Insert metadata information\n",
    "\n",
    "subjects=['al','ca','cc','de','fp','gc','gf','gw',\n",
    "          'h0','hh','jc','jm','jp','mv','rh','rr',\n",
    "          'ug','wc','wm','zt']\n",
    "\n",
    "os.chdir(r'C:\\Users\\jaapv\\Desktop\\master\\VoytekLab')\n",
    "\n",
    "# dataset\n",
    "dataset = 'fixation_pwrlaw'\n",
    "fs = 1000\n",
    "\n",
    "# get the filename\n",
    "sub_label = subjects[subj] + '_base'\n",
    "filename = os.path.join(os.getcwd(), dataset, 'data', sub_label)\n",
    "\n",
    "# load data\n",
    "dataStruct = sp.io.loadmat(filename)\n",
    "data = dataStruct['data']\n",
    "locs = dataStruct['locs']\n",
    "\n",
    "sig = data[:,ch]"
   ]
  },
  {
   "cell_type": "code",
   "execution_count": 19,
   "metadata": {},
   "outputs": [],
   "source": [
    "#%% Filtering and circle correlation functions\n",
    "\n",
    "def butter_bandpass(lowcut, highcut, fs, order=4):\n",
    "    #lowcut is the lower bound of the frequency that we want to isolate\n",
    "    #hicut is the upper bound of the frequency that we want to isolate\n",
    "    #fs is the sampling rate of our data\n",
    "    nyq = 0.5 * fs #nyquist frequency - see http://www.dspguide.com/ if you want more info\n",
    "    low = float(lowcut) / nyq\n",
    "    high = float(highcut) / nyq\n",
    "    b, a = butter(order, [low, high], btype='band')\n",
    "    return b, a\n",
    "\n",
    "def butter_bandpass_filter(mydata, lowcut, highcut, fs, order=4):\n",
    "    b, a = butter_bandpass(lowcut, highcut, fs, order=order)\n",
    "    y = filtfilt(b, a, mydata)\n",
    "    return y\n",
    "\n",
    "def circCorr(ang,line):\n",
    "    n = len(ang)\n",
    "    rxs = sp.stats.pearsonr(line,np.sin(ang))\n",
    "    rxs = rxs[0]\n",
    "    rxc = sp.stats.pearsonr(line,np.cos(ang))\n",
    "    rxc = rxc[0]\n",
    "    rcs = sp.stats.pearsonr(np.sin(ang),np.cos(ang))\n",
    "    rcs = rcs[0]\n",
    "    rho = np.sqrt((rxc**2 + rxs**2 - 2*rxc*rxs*rcs)/(1-rcs**2)) #r\n",
    "    r_2 = rho**2 #r squared\n",
    "    pval = 1- sp.stats.chi2.cdf(n*(rho**2),1)\n",
    "    standard_error = np.sqrt((1-r_2)/(n-2))\n",
    "\n",
    "    return rho, pval, r_2,standard_error"
   ]
  },
  {
   "cell_type": "code",
   "execution_count": null,
   "metadata": {},
   "outputs": [],
   "source": [
    "#%% Select frequency bands for PAC\n",
    "    \n",
    "phase_providing_band = [4,8]; #4-8 Hz band\n",
    "amplitude_providing_band = [80, 125]; #80-125 Hz band"
   ]
  },
  {
   "cell_type": "code",
   "execution_count": 85,
   "metadata": {},
   "outputs": [
    {
     "name": "stdout",
     "output_type": "stream",
     "text": [
      "another one is done =), this was subj 0\n",
      "another one is done =), this was subj 1\n",
      "another one is done =), this was subj 2\n",
      "another one is done =), this was subj 3\n"
     ]
    },
    {
     "name": "stderr",
     "output_type": "stream",
     "text": [
      "C:\\Users\\jaapv\\Anaconda3\\lib\\site-packages\\scipy\\stats\\stats.py:3038: RuntimeWarning: invalid value encountered in double_scalars\n",
      "  r = r_num / r_den\n",
      "C:\\Users\\jaapv\\Anaconda3\\lib\\site-packages\\scipy\\stats\\_distn_infrastructure.py:877: RuntimeWarning: invalid value encountered in greater\n",
      "  return (self.a < x) & (x < self.b)\n",
      "C:\\Users\\jaapv\\Anaconda3\\lib\\site-packages\\scipy\\stats\\_distn_infrastructure.py:877: RuntimeWarning: invalid value encountered in less\n",
      "  return (self.a < x) & (x < self.b)\n",
      "C:\\Users\\jaapv\\Anaconda3\\lib\\site-packages\\scipy\\stats\\_distn_infrastructure.py:1748: RuntimeWarning: invalid value encountered in greater_equal\n",
      "  cond2 = (x >= self.b) & cond0\n"
     ]
    },
    {
     "name": "stdout",
     "output_type": "stream",
     "text": [
      "another one is done =), this was subj 4\n",
      "another one is done =), this was subj 5\n",
      "another one is done =), this was subj 6\n",
      "another one is done =), this was subj 7\n",
      "another one is done =), this was subj 8\n",
      "another one is done =), this was subj 9\n",
      "another one is done =), this was subj 10\n",
      "another one is done =), this was subj 11\n",
      "another one is done =), this was subj 12\n",
      "another one is done =), this was subj 13\n",
      "another one is done =), this was subj 14\n",
      "another one is done =), this was subj 15\n",
      "another one is done =), this was subj 16\n",
      "another one is done =), this was subj 17\n",
      "another one is done =), this was subj 18\n",
      "another one is done =), this was subj 19\n"
     ]
    }
   ],
   "source": [
    "#### Loop through every subj and channel to find which have PAC\n",
    "#### This will be saved in the output structure PAC_presence\n",
    "\n",
    "# create output matrix of 20 * 64 (subj * channels)\n",
    "PAC_presence = np.full((2,20,64),np.nan)\n",
    "\n",
    "# for every subject\n",
    "for subj in range(len(subjects)): \n",
    "    \n",
    "    # get the filename\n",
    "    sub_label = subjects[subj] + '_base'\n",
    "    filename = os.path.join(os.getcwd(), dataset, 'data', sub_label)\n",
    "    \n",
    "    # load data\n",
    "    dataStruct = sp.io.loadmat(filename)\n",
    "    data = dataStruct['data']\n",
    "    locs = dataStruct['locs']\n",
    "    \n",
    "    # how much data we want\n",
    "    data = data[50000:70000] # 50 to 70 second part \n",
    "    \n",
    "    # for every channel \n",
    "    for ch in range(len(locs)):\n",
    "        \n",
    "                    \n",
    "        #calculating phase of theta of 20 seconds of the signal\n",
    "        phase_data = butter_bandpass_filter(data[:,ch], phase_providing_band[0], phase_providing_band[1], round(float(fs)));\n",
    "        phase_data_hilbert = hilbert(phase_data);\n",
    "        phase_data_angle = np.angle(phase_data_hilbert);\n",
    "        \n",
    "        #calculating amplitude envelope of high gamma of 20 seconds of the signal\n",
    "        amp_data = butter_bandpass_filter(data[:,ch], amplitude_providing_band[0], amplitude_providing_band[1], round(float(fs)));\n",
    "        amp_data_hilbert = hilbert(amp_data);\n",
    "        amp_data_abs = abs(amp_data_hilbert);\n",
    "        \n",
    "        # on which part of the data we want to calculate PAC\n",
    "        phase_data_angle = phase_data_angle[10000:12000] # 10 to 15s (which corresponds with 60 to 62s of the data)\n",
    "        amp_data_abs = amp_data_abs[10000:12000]         # 10 to 15s (which corresponds with 60 to 62s of the data)\n",
    "        \n",
    "        \n",
    "        # calculate PAC using circCorr function on 2 seconds of the data\n",
    "        PAC_values = circCorr(phase_data_angle, amp_data_abs)\n",
    "        \n",
    "        # save whether there is PAC or not in the matrix        \n",
    "        if PAC_values[1] <= 0.05:\n",
    "            \n",
    "            PAC_presence[0, subj, ch] = 1\n",
    "            \n",
    "        elif PAC_values[1] > 0.05: \n",
    "\n",
    "            PAC_presence[0, subj, ch] = 0\n",
    "            \n",
    "        PAC_presence[1, subj, ch] = PAC_values[1]\n",
    "     \n",
    "            \n",
    "    print('another one is done =), this was subj', subj)"
   ]
  },
  {
   "cell_type": "code",
   "execution_count": 89,
   "metadata": {},
   "outputs": [
    {
     "name": "stdout",
     "output_type": "stream",
     "text": [
      "[[[1.00000000e+00 1.00000000e+00 0.00000000e+00 ...            nan\n",
      "              nan            nan]\n",
      "  [1.00000000e+00 1.00000000e+00 1.00000000e+00 ... 1.00000000e+00\n",
      "   1.00000000e+00 1.00000000e+00]\n",
      "  [1.00000000e+00 1.00000000e+00 1.00000000e+00 ... 1.00000000e+00\n",
      "   1.00000000e+00 1.00000000e+00]\n",
      "  ...\n",
      "  [1.00000000e+00 1.00000000e+00 1.00000000e+00 ... 1.00000000e+00\n",
      "   1.00000000e+00 1.00000000e+00]\n",
      "  [0.00000000e+00 1.00000000e+00 1.00000000e+00 ... 1.00000000e+00\n",
      "   1.00000000e+00 1.00000000e+00]\n",
      "  [1.00000000e+00 1.00000000e+00 1.00000000e+00 ... 1.00000000e+00\n",
      "              nan            nan]]\n",
      "\n",
      " [[0.00000000e+00 1.91718330e-09 2.58476380e-01 ...            nan\n",
      "              nan            nan]\n",
      "  [1.74853465e-11 3.24529209e-03 1.52117562e-05 ... 2.08694121e-06\n",
      "   6.94555524e-13 1.01920654e-08]\n",
      "  [8.35481554e-08 2.18875379e-02 2.68242317e-10 ... 2.78934277e-02\n",
      "   1.85261495e-03 1.39135365e-07]\n",
      "  ...\n",
      "  [8.88178420e-16 1.42191471e-03 1.55786755e-03 ... 0.00000000e+00\n",
      "   1.26047700e-06 1.38532314e-03]\n",
      "  [1.65585534e-01 1.05425916e-05 1.93178806e-14 ... 4.04689295e-05\n",
      "   1.40994452e-02 3.68103000e-04]\n",
      "  [9.02223929e-09 4.66812987e-03 2.92203340e-07 ... 1.47191896e-05\n",
      "              nan            nan]]]\n",
      "(2, 20, 64)\n"
     ]
    }
   ],
   "source": [
    "print(PAC_presence)\n",
    "print(np.shape(PAC_presence))"
   ]
  },
  {
   "cell_type": "code",
   "execution_count": 90,
   "metadata": {},
   "outputs": [],
   "source": [
    "# Save output\n",
    "np.save('PAC_presence_2D.npy', PAC_presence)   "
   ]
  },
  {
   "cell_type": "code",
   "execution_count": 92,
   "metadata": {},
   "outputs": [
    {
     "data": {
      "text/plain": [
       "91.49868536371604"
      ]
     },
     "execution_count": 92,
     "metadata": {},
     "output_type": "execute_result"
    }
   ],
   "source": [
    "# Calculate in how much channels PAC is detected\n",
    "(PAC_presence[0,:,:] == 1).sum() / ((PAC_presence[0,:,:] == 1).sum() + (PAC_presence[0,:,:] == 0).sum()) * 100"
   ]
  },
  {
   "cell_type": "code",
   "execution_count": 82,
   "metadata": {},
   "outputs": [
    {
     "name": "stdout",
     "output_type": "stream",
     "text": [
      "[[[1.00000000e+00 1.00000000e+00 1.00000000e+00 ...            nan\n",
      "              nan            nan]\n",
      "  [1.00000000e+00 1.00000000e+00 1.00000000e+00 ... 1.00000000e+00\n",
      "   1.00000000e+00 1.00000000e+00]\n",
      "  [1.00000000e+00 1.00000000e+00 1.00000000e+00 ... 0.00000000e+00\n",
      "   1.00000000e+00 0.00000000e+00]\n",
      "  ...\n",
      "  [1.00000000e+00 1.00000000e+00 1.00000000e+00 ... 1.00000000e+00\n",
      "   1.00000000e+00 1.00000000e+00]\n",
      "  [0.00000000e+00 1.00000000e+00 1.00000000e+00 ... 1.00000000e+00\n",
      "   1.00000000e+00 1.00000000e+00]\n",
      "  [1.00000000e+00 0.00000000e+00 0.00000000e+00 ... 1.00000000e+00\n",
      "              nan            nan]]\n",
      "\n",
      " [[0.00000000e+00 3.88684418e-10 0.00000000e+00 ...            nan\n",
      "              nan            nan]\n",
      "  [2.15402317e-06 1.01320164e-02 2.54889656e-03 ... 0.00000000e+00\n",
      "   0.00000000e+00 4.29462357e-06]\n",
      "  [1.87489920e-08 6.88338275e-15 2.33990605e-12 ... 5.13996070e-02\n",
      "   3.70986076e-03 6.46692097e-01]\n",
      "  ...\n",
      "  [3.81786676e-02 1.67211320e-04 0.00000000e+00 ... 0.00000000e+00\n",
      "   0.00000000e+00 9.84146542e-09]\n",
      "  [6.45137886e-02 8.00892686e-12 5.96076521e-11 ... 1.53353790e-06\n",
      "   1.92080707e-09 9.54791801e-15]\n",
      "  [0.00000000e+00 2.23088899e-01 3.89049988e-01 ... 2.86626278e-12\n",
      "              nan            nan]]]\n"
     ]
    }
   ],
   "source": []
  },
  {
   "cell_type": "code",
   "execution_count": 84,
   "metadata": {},
   "outputs": [
    {
     "data": {
      "image/png": "[encoded data removed]",
      "text/plain": [
       "<Figure size 432x288 with 1 Axes>"
      ]
     },
     "metadata": {
      "needs_background": "light"
     },
     "output_type": "display_data"
    }
   ],
   "source": [
    "# show P-values\n",
    "plt.hist(PAC_presence[1,:,:], facecolor='g')\n",
    "plt.show()"
   ]
  },
  {
   "cell_type": "markdown",
   "metadata": {},
   "source": [
    "## A lot of the p-values moving towards significance, but do not reach them (yet). \n",
    "## Might be a sign that 2 seconds is not enough\n"
   ]
  },
  {
   "cell_type": "code",
   "execution_count": null,
   "metadata": {},
   "outputs": [],
   "source": []
  }
 ],
 "metadata": {
  "kernelspec": {
   "display_name": "Python 3",
   "language": "python",
   "name": "python3"
  },
  "language_info": {
   "codemirror_mode": {
    "name": "ipython",
    "version": 3
   },
   "file_extension": ".py",
   "mimetype": "text/x-python",
   "name": "python",
   "nbconvert_exporter": "python",
   "pygments_lexer": "ipython3",
   "version": "3.6.8"
  }
 },
 "nbformat": 4,
 "nbformat_minor": 2
}
