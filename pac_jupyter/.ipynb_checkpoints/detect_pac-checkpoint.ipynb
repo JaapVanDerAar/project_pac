{
 "cells": [
  {
   "cell_type": "code",
   "execution_count": 1,
   "metadata": {},
   "outputs": [],
   "source": [
    "# Load all necessary packages and modules\n",
    "\n",
    "import os\n",
    "import scipy.io\n",
    "import scipy as sp\n",
    "import numpy as np\n",
    "import matplotlib.pyplot as plt\n",
    "from scipy.signal import butter, filtfilt, hilbert\n"
   ]
  },
  {
   "cell_type": "code",
   "execution_count": 2,
   "metadata": {},
   "outputs": [],
   "source": [
    "# Insert metadata information\n",
    "\n",
    "subjects=['al','ca','cc','de','fp','gc','gf','gw',\n",
    "          'h0','hh','jc','jm','jp','mv','rh','rr',\n",
    "          'ug','wc','wm','zt']\n",
    "\n",
    "os.chdir(r'C:\\Users\\jaapv\\Desktop\\master\\VoytekLab')\n",
    "\n",
    "# dataset\n",
    "dataset = 'fixation_pwrlaw'\n",
    "fs = 1000\n",
    "\n",
    "# subj info\n",
    "subj = 16\n",
    "ch = 17\n",
    "\n",
    "# get the filename\n",
    "sub_label = subjects[subj] + '_base'\n",
    "filename = os.path.join(os.getcwd(), dataset, 'data', sub_label)\n",
    "\n",
    "# load data\n",
    "dataStruct = sp.io.loadmat(filename)\n",
    "data = dataStruct['data']\n",
    "locs = dataStruct['locs']\n",
    "\n",
    "sig = data[:,ch]"
   ]
  },
  {
   "cell_type": "code",
   "execution_count": 4,
   "metadata": {},
   "outputs": [],
   "source": [
    "#%% Filtering and circle correlation functions\n",
    "\n",
    "def butter_bandpass(lowcut, highcut, fs, order=4):\n",
    "    #lowcut is the lower bound of the frequency that we want to isolate\n",
    "    #hicut is the upper bound of the frequency that we want to isolate\n",
    "    #fs is the sampling rate of our data\n",
    "    nyq = 0.5 * fs #nyquist frequency - see http://www.dspguide.com/ if you want more info\n",
    "    low = float(lowcut) / nyq\n",
    "    high = float(highcut) / nyq\n",
    "    b, a = butter(order, [low, high], btype='band')\n",
    "    return b, a\n",
    "\n",
    "def butter_bandpass_filter(mydata, lowcut, highcut, fs, order=4):\n",
    "    b, a = butter_bandpass(lowcut, highcut, fs, order=order)\n",
    "    y = filtfilt(b, a, mydata)\n",
    "    return y\n",
    "\n",
    "def circCorr(ang,line):\n",
    "    n = len(ang)\n",
    "    rxs = sp.stats.pearsonr(line,np.sin(ang))\n",
    "    rxs = rxs[0]\n",
    "    rxc = sp.stats.pearsonr(line,np.cos(ang))\n",
    "    rxc = rxc[0]\n",
    "    rcs = sp.stats.pearsonr(np.sin(ang),np.cos(ang))\n",
    "    rcs = rcs[0]\n",
    "    rho = np.sqrt((rxc**2 + rxs**2 - 2*rxc*rxs*rcs)/(1-rcs**2)) #r\n",
    "    r_2 = rho**2 #r squared\n",
    "    pval = 1- sp.stats.chi2.cdf(n*(rho**2),1)\n",
    "    standard_error = np.sqrt((1-r_2)/(n-2))\n",
    "\n",
    "    return rho, pval, r_2,standard_error"
   ]
  },
  {
   "cell_type": "code",
   "execution_count": 5,
   "metadata": {},
   "outputs": [],
   "source": [
    "#%% Select frequency bands for PAC\n",
    "    \n",
    "phase_providing_band = [4,8]; #4-8 Hz band\n",
    "amplitude_providing_band = [80, 125]; #80-125 Hz band\n"
   ]
  },
  {
   "cell_type": "code",
   "execution_count": 6,
   "metadata": {},
   "outputs": [
    {
     "name": "stdout",
     "output_type": "stream",
     "text": [
      "another one is done =), this was subj 0\n",
      "another one is done =), this was subj 1\n",
      "another one is done =), this was subj 2\n",
      "another one is done =), this was subj 3\n"
     ]
    },
    {
     "name": "stderr",
     "output_type": "stream",
     "text": [
      "C:\\Users\\jaapv\\Anaconda3\\lib\\site-packages\\scipy\\stats\\stats.py:3038: RuntimeWarning: invalid value encountered in double_scalars\n",
      "  r = r_num / r_den\n",
      "C:\\Users\\jaapv\\Anaconda3\\lib\\site-packages\\scipy\\stats\\_distn_infrastructure.py:877: RuntimeWarning: invalid value encountered in greater\n",
      "  return (self.a < x) & (x < self.b)\n",
      "C:\\Users\\jaapv\\Anaconda3\\lib\\site-packages\\scipy\\stats\\_distn_infrastructure.py:877: RuntimeWarning: invalid value encountered in less\n",
      "  return (self.a < x) & (x < self.b)\n",
      "C:\\Users\\jaapv\\Anaconda3\\lib\\site-packages\\scipy\\stats\\_distn_infrastructure.py:1748: RuntimeWarning: invalid value encountered in greater_equal\n",
      "  cond2 = (x >= self.b) & cond0\n"
     ]
    },
    {
     "name": "stdout",
     "output_type": "stream",
     "text": [
      "another one is done =), this was subj 4\n",
      "another one is done =), this was subj 5\n",
      "another one is done =), this was subj 6\n",
      "another one is done =), this was subj 7\n",
      "another one is done =), this was subj 8\n",
      "another one is done =), this was subj 9\n",
      "another one is done =), this was subj 10\n",
      "another one is done =), this was subj 11\n",
      "another one is done =), this was subj 12\n",
      "another one is done =), this was subj 13\n",
      "another one is done =), this was subj 14\n",
      "another one is done =), this was subj 15\n",
      "another one is done =), this was subj 16\n",
      "another one is done =), this was subj 17\n",
      "another one is done =), this was subj 18\n",
      "another one is done =), this was subj 19\n"
     ]
    }
   ],
   "source": [
    "#### Loop through every subj and channel to find which have PAC\n",
    "#### This will be saved in the output structure PAC_presence\n",
    "\n",
    "# create output matrix of 20 * 64 (subj * channels)\n",
    "PAC_presence = np.full((20,64),np.nan)\n",
    "\n",
    "# for every subject\n",
    "for subj in range(len(subjects)): \n",
    "    \n",
    "    # get the filename\n",
    "    sub_label = subjects[subj] + '_base'\n",
    "    filename = os.path.join(os.getcwd(), dataset, 'data', sub_label)\n",
    "    \n",
    "    # load data\n",
    "    dataStruct = sp.io.loadmat(filename)\n",
    "    data = dataStruct['data']\n",
    "    locs = dataStruct['locs']\n",
    "    \n",
    "    # for every channel \n",
    "    for ch in range(len(locs)):\n",
    "        \n",
    "        \n",
    "    \n",
    "        #calculating phase of theta of 20 seconds of the signal\n",
    "        phase_data = butter_bandpass_filter(data[50000:70000,ch], phase_providing_band[0], phase_providing_band[1], round(float(fs)));\n",
    "        phase_data_hilbert = hilbert(phase_data);\n",
    "        phase_data_angle = np.angle(phase_data_hilbert);\n",
    "        \n",
    "        #calculating amplitude envelope of high gamma of 20 seconds of the signal\n",
    "        amp_data = butter_bandpass_filter(data[50000:70000,ch], amplitude_providing_band[0], amplitude_providing_band[1], round(float(fs)));\n",
    "        amp_data_hilbert = hilbert(amp_data);\n",
    "        amp_data_abs = abs(amp_data_hilbert);\n",
    "\n",
    "        # calculate PAC using circCorr function on 2 seconds of the data\n",
    "        PAC_values = circCorr(phase_data_angle[10000:12000], amp_data_abs[10000:12000])\n",
    "        \n",
    "        # save whether there is PAC or not in the matrix\n",
    "        if PAC_values[1] <= 0.05:\n",
    "            \n",
    "            PAC_presence[subj, ch] = 1\n",
    "            \n",
    "        elif PAC_values[1] > 0.05: \n",
    "\n",
    "            PAC_presence[subj, ch] = 0\n",
    "            \n",
    "            \n",
    "    print('another one is done =), this was subj', subj)\n"
   ]
  },
  {
   "cell_type": "code",
   "execution_count": 15,
   "metadata": {},
   "outputs": [],
   "source": [
    "# Save output\n",
    "np.save('PAC_presence_2s_6062.npy', PAC_presence)   \n",
    "     "
   ]
  },
  {
   "cell_type": "code",
   "execution_count": null,
   "metadata": {},
   "outputs": [],
   "source": [
    "# Calculate in how much channels PAC is detected\n",
    "(PAC_presence == 1).sum() / ((PAC_presence == 1).sum() + (PAC_presence == 0).sum()) * 100\n"
   ]
  }
 ],
 "metadata": {
  "kernelspec": {
   "display_name": "Python 3",
   "language": "python",
   "name": "python3"
  },
  "language_info": {
   "codemirror_mode": {
    "name": "ipython",
    "version": 3
   },
   "file_extension": ".py",
   "mimetype": "text/x-python",
   "name": "python",
   "nbconvert_exporter": "python",
   "pygments_lexer": "ipython3",
   "version": "3.6.8"
  }
 },
 "nbformat": 4,
 "nbformat_minor": 2
}
